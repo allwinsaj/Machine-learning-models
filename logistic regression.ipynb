{
 "cells": [
  {
   "cell_type": "markdown",
   "metadata": {},
   "source": [
    "# OBSERVATION\n",
    "         1)Applying logistic regression for counterVectorizer(BOW)\n",
    "         2)Evaluate the test and cv data on various performance metrics like accuracy,precision_score,recall,f1score \n",
    "         and also plotted confusion matrix by using scikitplot\n",
    "         3)To find the hyperparameter by using both gridsearchcv and Randomsearchcv\n",
    "         4)To show how sparsity increasing when we increase/decrease cv in l1 regularisation\n",
    "         5)To check whether the features are multicollinearity or not by using pertubation method"
   ]
  },
  {
   "cell_type": "code",
   "execution_count": 2,
   "metadata": {},
   "outputs": [],
   "source": [
    "import sqlite3\n",
    "import pandas as pd\n",
    "import numpy as np\n",
    "con=sqlite3.connect(\"database.sqlite\")\n",
    "data=pd.read_sql_query(\"\"\"SELECT * FROM Reviews WHERE Score !=3\"\"\",con)\n",
    "def partitions(x):\n",
    "    if x < 3:\n",
    "        return \"negative\"\n",
    "    return \"positive\"\n",
    "score=data[\"Score\"]\n",
    "positive_negative=score.map(partitions)\n",
    "data[\"Score\"]=positive_negative\n",
    "#Here I am just sorting the data\n",
    "sorted_data=data.sort_values(\"ProductId\",ascending=True,inplace=False,na_position=\"last\")\n",
    "#Here I am dropping the fake reviews (repeated reviews)\n",
    "Final_data=sorted_data.drop_duplicates(subset={\"UserId\",\"ProfileName\",\"Time\",\"Text\"},keep=\"first\",inplace=False)\n",
    "#Again I am filtering the data by using this condition\n",
    "Final_data=Final_data[Final_data.HelpfulnessNumerator <= Final_data.HelpfulnessDenominator]\n",
    "from nltk.stem import PorterStemmer\n",
    "import nltk\n",
    "from nltk.corpus import stopwords\n",
    "import re\n",
    "##functions to clean html and punctuation\n",
    "stop=set(stopwords.words(\"english\"))#set stop words  \n",
    "snow=nltk.stem.SnowballStemmer(\"english\")    #its give the stem word of particular word(eg:happy--happi)\n",
    "def clearhtml(sentence):#In cleanhtml function we taking all the html tag by using regular expression\n",
    "    cleanr=re.compile(\"<.*?>\")\n",
    "    clean=re.sub(cleanr,\" \",sentence)\n",
    "    return clean\n",
    "def clearpunc(sentence):\n",
    "    cleaned = re.sub(r'[?|!|\\'|\"|#]',r'',sentence)\n",
    "    cleaned = re.sub(r'[.|,|)|(|\\|/]',r' ',cleaned)\n",
    "    return cleaned\n",
    "#here we just filtered the reviews ie:preprocessing the data\n",
    "#1)clean the html tags in whole Final_data[\"Text\"]\n",
    "#2)clean the punctuation in whole Final_data[\"Text\"] by word by word('w')\n",
    "#3)check whether its alphabet or not and also length of the word should be more than 2\n",
    "#4)And change it into lower case and check  those words are not in stop word if its in stopwords its eliminate it\n",
    "#5)And we stemming each word and encode it\n",
    "\n",
    "i=0\n",
    "str=' '\n",
    "clean_string=[]\n",
    "positive_word=[]\n",
    "negative_word=[]\n",
    "for stem in Final_data[\"Text\"]:\n",
    "    Filtered_word=[]\n",
    "    stem=clearhtml(stem)\n",
    "    #print(stem)\n",
    "    for word in stem.split():\n",
    "        for clean_word in clearpunc(word).split():\n",
    "            if clean_word.isalpha() and len(clean_word) >2:\n",
    "                if clean_word.lower() not in stop:\n",
    "                    s=snow.stem(clean_word.lower()).encode(\"utf8\")\n",
    "                    Filtered_word.append(s)\n",
    "                    if (Final_data[\"Score\"].values)[i] == \"positive\":\n",
    "                        positive_word.append(s)\n",
    "                    if(Final_data[\"Score\"].values)[i]  == \"negative\":\n",
    "                        negative_word.append(s)\n",
    "                else:\n",
    "                    continue\n",
    "            else:\n",
    "                continue\n",
    "    str1=b\" \".join(Filtered_word)\n",
    "    clean_string.append(str1)\n",
    "    i+=1\n",
    "Final_data[\"cleaned_data\"]=clean_string\n",
    "Final_data[\"cleaned_data\"]=Final_data[\"cleaned_data\"].str.decode('utf8')\n",
    "#sorting my dataframe in TBS\n",
    "import datetime\n",
    "\n",
    "Final_data[\"Time\"] = Final_data[\"Time\"].map(lambda t: datetime.datetime.fromtimestamp(int(t)).strftime('%Y-%m-%d %H:%M:%S'))\n",
    "sorted_data=Final_data.sort_values(\"Time\",ascending=True,kind=\"quicksort\",inplace=False,axis=0).reset_index(drop=True)\n"
   ]
  },
  {
   "cell_type": "code",
   "execution_count": 3,
   "metadata": {},
   "outputs": [
    {
     "data": {
      "text/plain": [
       "positive    129547\n",
       "negative     20453\n",
       "Name: Score, dtype: int64"
      ]
     },
     "execution_count": 3,
     "metadata": {},
     "output_type": "execute_result"
    }
   ],
   "source": [
    "data_40k=sorted_data.head(150000)\n",
    "data_40k['Score'].value_counts()"
   ]
  },
  {
   "cell_type": "code",
   "execution_count": 4,
   "metadata": {},
   "outputs": [
    {
     "name": "stderr",
     "output_type": "stream",
     "text": [
      "C:\\Users\\Admin\\Anaconda3\\lib\\site-packages\\ipykernel_launcher.py:7: SettingWithCopyWarning: \n",
      "A value is trying to be set on a copy of a slice from a DataFrame.\n",
      "Try using .loc[row_indexer,col_indexer] = value instead\n",
      "\n",
      "See the caveats in the documentation: http://pandas.pydata.org/pandas-docs/stable/indexing.html#indexing-view-versus-copy\n",
      "  import sys\n"
     ]
    }
   ],
   "source": [
    "def partitions(x):\n",
    "    if x==\"positive\":\n",
    "        return 1\n",
    "    return 0\n",
    "score=data_40k[\"Score\"]\n",
    "positive_negative=score.map(partitions)\n",
    "data_40k[\"Score\"]=positive_negative"
   ]
  },
  {
   "cell_type": "code",
   "execution_count": 5,
   "metadata": {},
   "outputs": [
    {
     "name": "stderr",
     "output_type": "stream",
     "text": [
      "C:\\Users\\Admin\\Anaconda3\\lib\\site-packages\\sklearn\\cross_validation.py:41: DeprecationWarning: This module was deprecated in version 0.18 in favor of the model_selection module into which all the refactored classes and functions are moved. Also note that the interface of the new CV iterators are different from that of this module. This module will be removed in 0.20.\n",
      "  \"This module will be removed in 0.20.\", DeprecationWarning)\n"
     ]
    }
   ],
   "source": [
    "from sklearn.feature_extraction.text import CountVectorizer\n",
    "from sklearn.model_selection import train_test_split\n",
    "from sklearn import preprocessing\n",
    "from sklearn import cross_validation\n",
    "from sklearn.model_selection import cross_val_score\n",
    "from sklearn.metrics import accuracy_score"
   ]
  },
  {
   "cell_type": "code",
   "execution_count": 6,
   "metadata": {},
   "outputs": [],
   "source": [
    "#Here I am just splitting my data into train,cv and test sets\n",
    "X_train, X_test, y_train, y_test = train_test_split(data_40k,data_40k['Score'],test_size=0.3,random_state=42,shuffle=False)\n",
    "X_tr,X_cv,y_tr,y_cv=train_test_split(X_train,y_train,test_size=0.3,shuffle=False)\n",
    "#print(X_tr.shape)\n",
    "#print(X_test.shape)\n",
    "#print(X_cv.shape)"
   ]
  },
  {
   "cell_type": "markdown",
   "metadata": {},
   "source": [
    "# BOW(UNIGRAM) "
   ]
  },
  {
   "cell_type": "code",
   "execution_count": 7,
   "metadata": {},
   "outputs": [
    {
     "data": {
      "text/plain": [
       "(45000, 32066)"
      ]
     },
     "execution_count": 7,
     "metadata": {},
     "output_type": "execute_result"
    }
   ],
   "source": [
    "#here I am using Counter vectorizer(BOW(unigram)) to convert the text into vectors\n",
    "cnt_vector=CountVectorizer()\n",
    "fit_Xtrain=cnt_vector.fit(X_tr[\"cleaned_data\"])#fit the counter vectorizer only on train data\n",
    "trans_Xtrain=cnt_vector.transform(X_tr[\"cleaned_data\"])#transform the fitted data to new variables(train,test,cv)\n",
    "trans_Xtest=cnt_vector.transform(X_test[\"cleaned_data\"])\n",
    "trans_Xcv=cnt_vector.transform(X_cv[\"cleaned_data\"])\n",
    "trans_Xtest.shape"
   ]
  },
  {
   "cell_type": "code",
   "execution_count": 8,
   "metadata": {},
   "outputs": [
    {
     "name": "stderr",
     "output_type": "stream",
     "text": [
      "C:\\Users\\Admin\\Anaconda3\\lib\\site-packages\\sklearn\\utils\\validation.py:475: DataConversionWarning: Data with input dtype int64 was converted to float64 by StandardScaler.\n",
      "  warnings.warn(msg, DataConversionWarning)\n"
     ]
    }
   ],
   "source": [
    "from sklearn.preprocessing import StandardScaler\n",
    "std_bow=StandardScaler(with_mean=False)\n",
    "std_bow.fit(trans_Xtrain)\n",
    "X_train_stnd2=std_bow.transform(trans_Xtrain)\n",
    "X_test_stnd2=std_bow.transform(trans_Xtest)\n",
    "X_cv_stnd2=std_bow.transform(trans_Xcv)"
   ]
  },
  {
   "cell_type": "code",
   "execution_count": 9,
   "metadata": {},
   "outputs": [
    {
     "name": "stdout",
     "output_type": "stream",
     "text": [
      "Best HyperParameter:  {'C': 0.0001, 'penalty': 'l2'}\n",
      "Best Accuracy: 94.53%\n"
     ]
    }
   ],
   "source": [
    "from sklearn.model_selection import GridSearchCV\n",
    "from sklearn.linear_model import LogisticRegression\n",
    "\n",
    "clf = LogisticRegression(class_weight='balanced')\n",
    "#params we need to try on classifier\n",
    "param=[]\n",
    "param_grid = {'C':[1000,500,100,50,10,5,1,0.5,0.1,0.05,0.01,0.005,0.001,0.0005,0.0001],\n",
    "             'penalty':['l2']}               #here I am using l2 norm\n",
    "gsv = GridSearchCV(clf,param_grid,cv=5,scoring=\"f1\",n_jobs=-1)#grid_search is used to find the best optimal C\n",
    "gsv.fit(X_train_stnd2,y_tr)#fit the model only in train dataset\n",
    "print(\"Best HyperParameter: \",gsv.best_params_)#the attributes best_params_ gives the Best hyper parameter value\n",
    "print(\"Best Accuracy: %.2f%%\"%(gsv.best_score_*100))#the attribute best_score_ gives the Accuracy of the grid search which gives best C through logistic regression\n",
    "param.append(gsv.best_params_)\n",
    "C1=param[0][\"C\"]\n",
    "#print(C1)"
   ]
  },
  {
   "cell_type": "code",
   "execution_count": 10,
   "metadata": {},
   "outputs": [
    {
     "name": "stdout",
     "output_type": "stream",
     "text": [
      "Accuracy on cv set: 89.686%\n",
      "Precision on cv set: 91.238\n",
      "Recall on cv set: 89.686\n",
      "F1-Score on cv set: 90.243\n",
      "Non Zero weights: 32066\n"
     ]
    },
    {
     "data": {
      "text/plain": [
       "<matplotlib.axes._subplots.AxesSubplot at 0xfdc14fd320>"
      ]
     },
     "execution_count": 10,
     "metadata": {},
     "output_type": "execute_result"
    }
   ],
   "source": [
    "import scikitplot.metrics as skplt\n",
    "from sklearn.metrics import classification_report,confusion_matrix,accuracy_score,precision_score,recall_score,f1_score\n",
    "import seaborn as sns\n",
    "import scikitplot.metrics as sklpt\n",
    "\n",
    "clf = LogisticRegression(C=C1, penalty= 'l2',class_weight=\"balanced\")#Here I am using L2 norm\n",
    "clf.fit(X_train_stnd2,y_tr)\n",
    "y_pred = clf.predict(X_cv_stnd2)\n",
    "print(\"Accuracy on cv set: %0.3f%%\"%(accuracy_score(y_cv, y_pred)*100))\n",
    "print(\"Precision on cv set: %0.3f\"%(precision_score(y_cv, y_pred,average=\"weighted\")*100))\n",
    "print(\"Recall on cv set: %0.3f\"%(recall_score(y_cv, y_pred,average=\"weighted\")*100))\n",
    "print(\"F1-Score on cv set: %0.3f\"%(f1_score(y_cv, y_pred,average=\"weighted\")*100))\n",
    "print(\"Non Zero weights:\",np.count_nonzero(clf.coef_))\n",
    "sklpt.plot_confusion_matrix(y_cv,y_pred)"
   ]
  },
  {
   "cell_type": "code",
   "execution_count": 11,
   "metadata": {},
   "outputs": [
    {
     "name": "stdout",
     "output_type": "stream",
     "text": [
      "K value in Kfold is: 0.0001\n"
     ]
    },
    {
     "data": {
      "image/png": "[encoded data removed]",
      "text/plain": [
       "<Figure size 432x288 with 1 Axes>"
      ]
     },
     "metadata": {},
     "output_type": "display_data"
    }
   ],
   "source": [
    "#We gonna find the optimal k by using K fold\n",
    "cv_score=[]\n",
    "mylist=[1000,500,100,50,10,5,1,0.5,0.1,0.05,0.01,0.005,0.001,0.0005,0.0001]\n",
    "for k in mylist:# my list contains odd from 1 to 30\n",
    "    lr=LogisticRegression(C=k,class_weight=\"balanced\")\n",
    "    score=cross_val_score(lr,X_train_stnd2,y_tr,cv=10,scoring=\"f1\")#here i am using my X and Y as X_tr and y_tr\n",
    "    #print(score)\n",
    "    cv_score.append(score.mean())#score gives as 10 score for each odd numbers so we should take score.mean()and store it in cv_score\n",
    "import matplotlib.pyplot as plt\n",
    "#print(cv_score)\n",
    "MSE=[1-x for x in cv_score]\n",
    "optimal_k = mylist[MSE.index(min(MSE))]\n",
    "print(\"K value in Kfold is:\",optimal_k)\n",
    "plt.plot(mylist,MSE)\n",
    "for xy in zip(mylist, np.round(MSE,2)):\n",
    "    plt.annotate('(%s, %s)' % xy, xy=xy, textcoords='data')\n",
    "plt.xlabel(\"Hyperparameter C\")\n",
    "plt.ylabel(\"Misclassification Error\")\n",
    "plt.title(\"Logistic regressionn for BOW\")\n",
    "plt.show()"
   ]
  },
  {
   "cell_type": "code",
   "execution_count": 12,
   "metadata": {},
   "outputs": [
    {
     "name": "stdout",
     "output_type": "stream",
     "text": [
      "             precision    recall  f1-score   support\n",
      "\n",
      "          0       0.60      0.78      0.68      4338\n",
      "          1       0.96      0.92      0.94     27162\n",
      "\n",
      "avg / total       0.91      0.90      0.90     31500\n",
      "\n",
      "[[ 3380   958]\n",
      " [ 2291 24871]]\n",
      "true negative: 3380\n",
      "false positive:  958\n",
      "false negative : 2291\n",
      "true positive  24871\n"
     ]
    }
   ],
   "source": [
    "print(classification_report(y_cv, y_pred))#classification report gives the report of accuracy score,precision score,recall,f1score\n",
    "cv_acc=confusion_matrix(y_cv,y_pred)\n",
    "print(cv_acc)\n",
    "tn, fp, fn, tp = confusion_matrix(y_cv,y_pred).ravel()\n",
    "print(\"true negative:\",tn)\n",
    "print(\"false positive: \",fp)\n",
    "print(\"false negative :\",fn)\n",
    "print(\"true positive \",tp)\n"
   ]
  },
  {
   "cell_type": "code",
   "execution_count": 13,
   "metadata": {},
   "outputs": [
    {
     "name": "stdout",
     "output_type": "stream",
     "text": [
      "Accuracy on test set: 88.822%\n",
      "Precision on test set: 90.204\n",
      "Recall on test set: 88.822\n",
      "F1-Score on test set: 89.309\n",
      "Non Zero weights: 32066\n"
     ]
    },
    {
     "data": {
      "text/plain": [
       "<matplotlib.axes._subplots.AxesSubplot at 0xfdcbcb3eb8>"
      ]
     },
     "execution_count": 13,
     "metadata": {},
     "output_type": "execute_result"
    },
    {
     "data": {
      "image/png": "[encoded data removed]",
      "text/plain": [
       "<Figure size 432x288 with 2 Axes>"
      ]
     },
     "metadata": {},
     "output_type": "display_data"
    }
   ],
   "source": [
    "#metrics Score for test\n",
    "import scikitplot.metrics as skplt\n",
    "from sklearn.metrics import classification_report,confusion_matrix,accuracy_score,precision_score,recall_score,f1_score\n",
    "import seaborn as sns\n",
    "\n",
    "\n",
    "clf = LogisticRegression(C= C1, penalty= 'l2',class_weight=\"balanced\")\n",
    "clf.fit(X_train_stnd2,y_tr)\n",
    "y_pred = clf.predict(X_test_stnd2)\n",
    "print(\"Accuracy on test set: %0.3f%%\"%(accuracy_score(y_test, y_pred)*100))\n",
    "print(\"Precision on test set: %0.3f\"%(precision_score(y_test, y_pred,average=\"weighted\")*100))\n",
    "print(\"Recall on test set: %0.3f\"%(recall_score(y_test, y_pred,average=\"weighted\")*100))\n",
    "print(\"F1-Score on test set: %0.3f\"%(f1_score(y_test, y_pred,average=\"weighted\")*100))\n",
    "print(\"Non Zero weights:\",np.count_nonzero(clf.coef_))#it counts the no of non zero features\n",
    "sklpt.plot_confusion_matrix(y_test,y_pred)#plotting the confusion matrix for ytest and y_pred"
   ]
  },
  {
   "cell_type": "markdown",
   "metadata": {},
   "source": [
    "# How Sparsity is differ if we change the C value(hyperparameter)"
   ]
  },
  {
   "cell_type": "code",
   "execution_count": 14,
   "metadata": {},
   "outputs": [
    {
     "name": "stdout",
     "output_type": "stream",
     "text": [
      "Non Zero weights: 16274\n"
     ]
    }
   ],
   "source": [
    "\n",
    "import scikitplot.metrics as skplt\n",
    "from sklearn.metrics import classification_report,confusion_matrix,accuracy_score,precision_score,recall_score,f1_score\n",
    "import seaborn as sns\n",
    "\n",
    "\n",
    "clf = LogisticRegression(C= 10, penalty= 'l1',class_weight=\"balanced\")#Here I am using L1 norms\n",
    "clf.fit(X_train_stnd2,y_tr)\n",
    "y_pred = clf.predict(X_test_stnd2)\n",
    "coef_=clf.coef_\n",
    "print(\"Non Zero weights:\",np.count_nonzero(coef_))#basically l1 norms gives high sparsity so no of non zero will be low\n"
   ]
  },
  {
   "cell_type": "code",
   "execution_count": 15,
   "metadata": {},
   "outputs": [
    {
     "name": "stdout",
     "output_type": "stream",
     "text": [
      "Non Zero weights: 21238\n"
     ]
    }
   ],
   "source": [
    "import scikitplot.metrics as skplt\n",
    "from sklearn.metrics import classification_report,confusion_matrix,accuracy_score,precision_score,recall_score,f1_score\n",
    "import seaborn as sns\n",
    "\n",
    "\n",
    "clf = LogisticRegression(C= 100, penalty= 'l1',class_weight=\"balanced\")#HereI am changing the hyper parameter value so no of non zero values gets differ from above\n",
    "clf.fit(X_train_stnd2,y_tr)\n",
    "y_pred = clf.predict(X_test_stnd2)\n",
    "print(\"Non Zero weights:\",np.count_nonzero(clf.coef_))\n"
   ]
  },
  {
   "cell_type": "code",
   "execution_count": 16,
   "metadata": {},
   "outputs": [
    {
     "name": "stdout",
     "output_type": "stream",
     "text": [
      "Non Zero weights: 10033\n"
     ]
    }
   ],
   "source": [
    "import scikitplot.metrics as skplt\n",
    "from sklearn.metrics import classification_report,confusion_matrix,accuracy_score,precision_score,recall_score,f1_score\n",
    "import seaborn as sns\n",
    "\n",
    "\n",
    "clf = LogisticRegression(C= 0.1, penalty= 'l1')#Here hyperparameter value C is very low so the non zero value will be very low\n",
    "clf.fit(X_train_stnd2,y_tr)\n",
    "y_pred = clf.predict(X_test_stnd2)\n",
    "print(\"Non Zero weights:\",np.count_nonzero(clf.coef_))\n"
   ]
  },
  {
   "cell_type": "markdown",
   "metadata": {},
   "source": [
    "# pertubation test"
   ]
  },
  {
   "cell_type": "code",
   "execution_count": 17,
   "metadata": {},
   "outputs": [
    {
     "name": "stdout",
     "output_type": "stream",
     "text": [
      "Accuracy on test set: 85.567%\n",
      "Before adding r.noise Non Zero weights: 32066\n"
     ]
    }
   ],
   "source": [
    "#just checking the accuracy before adding random noise \n",
    "from sklearn.linear_model import LogisticRegression\n",
    "\n",
    "clf = LogisticRegression(C= 10, penalty= 'l2')\n",
    "clf.fit(X_train_stnd2,y_tr)\n",
    "y_pred = clf.predict(X_test_stnd2)\n",
    "print(\"Accuracy on test set: %0.3f%%\"%(accuracy_score(y_test, y_pred)*100))\n",
    "print(\"Before adding r.noise Non Zero weights:\",np.count_nonzero(clf.coef_))"
   ]
  },
  {
   "cell_type": "code",
   "execution_count": 18,
   "metadata": {},
   "outputs": [
    {
     "name": "stdout",
     "output_type": "stream",
     "text": [
      "32066\n",
      "[-4.44567088e-03  9.27238087e-03  1.82728241e-03 -5.57272412e-03\n",
      " -1.30701231e-02  1.04726596e-03 -1.55899112e-02 -8.13897763e-03\n",
      " -2.24731889e-03  4.28899439e-01 -3.73893606e-03  1.28549116e-02\n",
      " -2.30015475e-03  5.93838800e-04  1.19706490e-01 -8.72309348e-02\n",
      "  7.18183830e-02  4.17253008e-02 -1.79926304e-01  8.36760296e-03\n",
      " -3.79464618e-04  2.36223406e-02  1.37612338e-03  3.78248474e-02\n",
      " -1.10982156e-02 -1.04722070e-01 -1.53134181e-03  7.41989026e-04\n",
      " -2.08781843e-02  2.33968299e-01  2.73848145e-02 -8.92407753e-03\n",
      " -6.29227167e-04  4.13383223e-05 -8.98561106e-03 -3.68481251e-02\n",
      " -6.34209125e-03  8.58838565e-02  2.25518531e-02  1.22181851e-02\n",
      " -6.17157149e-02 -1.51463448e-03  2.71646814e-04  3.15657553e-02\n",
      "  1.87317568e-01 -1.23503263e-03  5.45898487e-02 -3.27292886e-02\n",
      " -9.39057405e-04  1.14124552e-02]\n"
     ]
    }
   ],
   "source": [
    "from scipy.sparse import find\n",
    "#Weights before adding random noise\n",
    "weights1 = find(clf.coef_[0])[2]\n",
    "print(weights1.size)\n",
    "print(weights1[:50])\n",
    "#print(weights1[0:2])\n",
    "#print(clf.coef_[0])"
   ]
  },
  {
   "cell_type": "code",
   "execution_count": 19,
   "metadata": {},
   "outputs": [
    {
     "name": "stdout",
     "output_type": "stream",
     "text": [
      "2199282\n"
     ]
    }
   ],
   "source": [
    "X_train_t = X_train_stnd2\n",
    "#Random noise\n",
    "print(X_train_stnd2.size)\n",
    "#print(X_train_t)\n",
    "epsilon = np.random.uniform(low=-0.0001, high=0.0001, size=(find(X_train_t)[0].size))\n",
    "#Getting the postions(row and column) and value of non-zero datapoints \n",
    "#print(find(X_train_t)[0].size)\n",
    "a,b,c = find(X_train_t)#a contains row indices b contains column indices c contains non zero matrix entries\n",
    "#print(a)\n",
    "#print(b)\n",
    "#Introducing random noise to non-zero datapoints\n",
    "X_train_t[a,b] = epsilon + X_train_t[a,b]\n"
   ]
  },
  {
   "cell_type": "code",
   "execution_count": 20,
   "metadata": {},
   "outputs": [
    {
     "name": "stdout",
     "output_type": "stream",
     "text": [
      "Accuracy on test set: 85.573%\n",
      "Non Zero weights: 32066\n"
     ]
    }
   ],
   "source": [
    "from sklearn.linear_model import LogisticRegression\n",
    "\n",
    "clf = LogisticRegression(C= 10, penalty= 'l2')\n",
    "clf.fit(X_train_t,y_tr)\n",
    "y_pred = clf.predict(X_test_stnd2)\n",
    "print(\"Accuracy on test set: %0.3f%%\"%(accuracy_score(y_test, y_pred)*100))\n",
    "print(\"Non Zero weights:\",np.count_nonzero(clf.coef_))"
   ]
  },
  {
   "cell_type": "code",
   "execution_count": 21,
   "metadata": {},
   "outputs": [
    {
     "name": "stdout",
     "output_type": "stream",
     "text": [
      "[-7.23889308e-03  9.27329125e-03  1.68861223e-03 -6.62002329e-03\n",
      " -1.59009016e-02  1.53097892e-03 -1.57126003e-02 -1.14922356e-02\n",
      " -2.80819031e-03  4.29238119e-01 -2.93376056e-03  1.27729803e-02\n",
      " -2.83238614e-03  1.68354739e-03  1.18988633e-01 -8.71686068e-02\n",
      "  7.07752233e-02  4.28708583e-02 -1.79204042e-01  8.36496725e-03\n",
      " -1.85164262e-04  2.36247738e-02  2.50691438e-03  3.73297191e-02\n",
      " -1.58119545e-02 -1.04768419e-01 -2.16184753e-04  3.93783394e-04\n",
      " -2.04823982e-02  2.34506350e-01  2.74339520e-02 -1.68768803e-02\n",
      " -8.34138378e-04  1.35322302e-03 -1.23985267e-02 -3.70192482e-02\n",
      " -8.80371248e-03  8.59981585e-02  2.26381447e-02  1.25831935e-02\n",
      " -6.17056090e-02 -2.69111788e-03  1.92386441e-04  3.28017547e-02\n",
      "  1.87381816e-01 -1.38765250e-03  5.52532072e-02 -3.47164902e-02\n",
      " -1.67199396e-03  1.06641668e-02]\n",
      "32066\n",
      "1020\n"
     ]
    }
   ],
   "source": [
    "from scipy.sparse import find\n",
    "#Weights after adding random noise\n",
    "weights2 = find(clf.coef_[0])[2]\n",
    "print(weights2[:50])\n",
    "print(weights2.size)\n",
    "weights_diff = ((weights1 - weights2) /weights1)*100\n",
    "#for i in range(weights_diff.size):\n",
    "  #  print(np.round_(weights_diff[i],decimals=2))\n",
    "#weights_diff = (weights1 + weights2) \n",
    "#print(weights_diff.shape)\n",
    "print(weights_diff[np.where(weights_diff > 40)].size)"
   ]
  },
  {
   "cell_type": "code",
   "execution_count": 22,
   "metadata": {},
   "outputs": [
    {
     "name": "stdout",
     "output_type": "stream",
     "text": [
      "\t\t\tPositive\t\t\t\t\t\tNegative\n",
      "________________________________________________________________________________________________\n",
      "\t-1.6153\tauthor         \t\t\t\t3.9814\tmole           \n",
      "\t-1.4885\tkretschmer     \t\t\t\t2.3109\tyum            \n",
      "\t-1.4649\tparasit        \t\t\t\t1.9888\tgreat          \n",
      "\t-1.4247\tque            \t\t\t\t1.9591\tbest           \n",
      "\t-1.1102\tpenetr         \t\t\t\t1.9165\tsin            \n",
      "\t-1.0756\tgeyser         \t\t\t\t1.8487\tlanguag        \n",
      "\t-1.0569\twww            \t\t\t\t1.7709\tplaqu          \n",
      "\t-1.0566\tmarco          \t\t\t\t1.6906\tscovill        \n",
      "\t-1.0426\tindepend       \t\t\t\t1.6543\theartili       \n",
      "\t-1.0338\tcontext        \t\t\t\t1.6062\tactiv          \n",
      "\t-1.0076\tinsuffici      \t\t\t\t1.5817\tcacao          \n",
      "\t-1.0065\tbacteria       \t\t\t\t1.5361\tlove           \n",
      "\t-0.9587\tworst          \t\t\t\t1.5357\trelax          \n",
      "\t-0.8948\tagricultur     \t\t\t\t1.4880\tyerba          \n",
      "\t-0.8530\tphysiolog      \t\t\t\t1.3192\tpetit          \n",
      "\t-0.8443\tinfrequ        \t\t\t\t1.2913\ttowel          \n",
      "\t-0.8378\tstool          \t\t\t\t1.2872\tperfect        \n",
      "\t-0.8278\tinvestig       \t\t\t\t1.2855\taddict         \n",
      "\t-0.8271\tsyndrom        \t\t\t\t1.2569\ttown           \n",
      "\t-0.8238\tprotest        \t\t\t\t1.2426\tseep           \n",
      "\t-0.8183\turin           \t\t\t\t1.2316\tshallot        \n",
      "\t-0.8165\tcatalina       \t\t\t\t1.2043\tvernor         \n",
      "\t-0.8112\tregion         \t\t\t\t1.2003\tyunnan         \n",
      "\t-0.8053\tswat           \t\t\t\t1.1965\tscrumptious    \n",
      "\t-0.7951\trichard        \t\t\t\t1.1808\tpez            \n"
     ]
    }
   ],
   "source": [
    "def show_most_informative_features(vectorizer, clf, n=25):\n",
    "    feature_names = vectorizer.get_feature_names()\n",
    "    coefs_with_fns = sorted(zip(clf.coef_[0], feature_names))\n",
    "    top = zip(coefs_with_fns[:n], coefs_with_fns[:-(n + 1):-1])\n",
    "    print(\"\\t\\t\\tPositive\\t\\t\\t\\t\\t\\tNegative\")\n",
    "    print(\"________________________________________________________________________________________________\")\n",
    "    for (coef_1, fn_1), (coef_2, fn_2) in top:\n",
    "        print(\"\\t%.4f\\t%-15s\\t\\t\\t\\t%.4f\\t%-15s\" % (coef_1, fn_1, coef_2, fn_2))\n",
    "show_most_informative_features(cnt_vector,clf)\n",
    "#code_reference:https://stackoverflow.com/questions/11116697/how-to-get-most-informative-features-for-scikit-learn-classifiers"
   ]
  },
  {
   "cell_type": "code",
   "execution_count": 23,
   "metadata": {},
   "outputs": [
    {
     "name": "stdout",
     "output_type": "stream",
     "text": [
      "Best HyperParameter:  {'C': 0.0001}\n",
      "Best Accuracy: 90.54%\n"
     ]
    }
   ],
   "source": [
    "from sklearn.model_selection import RandomizedSearchCV\n",
    "from sklearn.linear_model import LogisticRegression\n",
    "\n",
    "clf = LogisticRegression(penalty='l2',class_weight=\"balanced\")\n",
    "#params we need to try on classifier\n",
    "param_grid = {'C':[1000,500,100,50,10,5,1,0.5,0.1,0.05,0.01,0.005,0.001,0.0005,0.0001]}\n",
    "rsv = RandomizedSearchCV(clf,param_grid,cv=5,verbose=0)\n",
    "rsv.fit(X_train_stnd2,y_tr)\n",
    "print(\"Best HyperParameter: \",rsv.best_params_)\n",
    "print(\"Best Accuracy: %.2f%%\"%(rsv.best_score_*100))\n",
    "#print(\"Non Zero weights:\",np.count_nonzero(clf.coef_))\n"
   ]
  },
  {
   "cell_type": "markdown",
   "metadata": {},
   "source": [
    "# BIGRAM"
   ]
  },
  {
   "cell_type": "code",
   "execution_count": 24,
   "metadata": {},
   "outputs": [],
   "source": [
    "cnt_vector_bigram=CountVectorizer(ngram_range=(1,2))\n",
    "fit_Xtrain=cnt_vector_bigram.fit(X_tr[\"cleaned_data\"])\n",
    "trans_Xtrain=cnt_vector_bigram.transform(X_tr[\"cleaned_data\"])\n",
    "trans_Xtest=cnt_vector_bigram.transform(X_test[\"cleaned_data\"])\n",
    "trans_Xcv=cnt_vector_bigram.transform(X_cv[\"cleaned_data\"])\n",
    "#print(trans_Xtest.shape)\n",
    "#print(trans_Xcv.shape)\n",
    "#print(trans_Xtrain.shape)"
   ]
  },
  {
   "cell_type": "code",
   "execution_count": 25,
   "metadata": {},
   "outputs": [
    {
     "name": "stderr",
     "output_type": "stream",
     "text": [
      "C:\\Users\\Admin\\Anaconda3\\lib\\site-packages\\sklearn\\utils\\validation.py:475: DataConversionWarning: Data with input dtype int64 was converted to float64 by StandardScaler.\n",
      "  warnings.warn(msg, DataConversionWarning)\n",
      "C:\\Users\\Admin\\Anaconda3\\lib\\site-packages\\sklearn\\utils\\validation.py:475: DataConversionWarning: Data with input dtype int64 was converted to float64 by StandardScaler.\n",
      "  warnings.warn(msg, DataConversionWarning)\n",
      "C:\\Users\\Admin\\Anaconda3\\lib\\site-packages\\sklearn\\utils\\validation.py:475: DataConversionWarning: Data with input dtype int64 was converted to float64 by StandardScaler.\n",
      "  warnings.warn(msg, DataConversionWarning)\n",
      "C:\\Users\\Admin\\Anaconda3\\lib\\site-packages\\sklearn\\utils\\validation.py:475: DataConversionWarning: Data with input dtype int64 was converted to float64 by StandardScaler.\n",
      "  warnings.warn(msg, DataConversionWarning)\n"
     ]
    }
   ],
   "source": [
    "from sklearn.preprocessing import StandardScaler\n",
    "std_bigram=StandardScaler(with_mean=False)\n",
    "std_bigram.fit(trans_Xtrain)\n",
    "X_train_stnd2=std_bigram.transform(trans_Xtrain)\n",
    "X_test_stnd2=std_bigram.transform(trans_Xtest)\n",
    "X_cv_stnd2=std_bigram.transform(trans_Xcv)"
   ]
  },
  {
   "cell_type": "code",
   "execution_count": 26,
   "metadata": {},
   "outputs": [
    {
     "name": "stdout",
     "output_type": "stream",
     "text": [
      "Best HyperParameter:  {'C': 0.0001, 'penalty': 'l2'}\n",
      "Best Accuracy: 94.88%\n"
     ]
    }
   ],
   "source": [
    "from sklearn.model_selection import GridSearchCV\n",
    "from sklearn.linear_model import LogisticRegression\n",
    "\n",
    "clf = LogisticRegression(class_weight='balanced')\n",
    "#params we need to try on classifier\n",
    "param=[]\n",
    "param_grid = {'C':[1000,500,100,50,10,5,1,0.5,0.1,0.05,0.01,0.005,0.001,0.0005,0.0001],\n",
    "             'penalty':['l2']}               #here I am using l2 norm\n",
    "gsv = GridSearchCV(clf,param_grid,cv=10,scoring=\"f1\")#grid_search is used to find the best optimal C\n",
    "gsv.fit(X_train_stnd2,y_tr)#fit the model only in train dataset\n",
    "print(\"Best HyperParameter: \",gsv.best_params_)#the attributes best_params_ gives the Best hyper parameter value\n",
    "print(\"Best Accuracy: %.2f%%\"%(gsv.best_score_*100))#the attribute best_score_ gives the Accuracy of the grid search which gives best C through logistic regression\n",
    "#print(y_tr.value_counts())\n",
    "#print(X_tr['Score'].value_counts())\n",
    "param.append(gsv.best_params_)\n",
    "C1=param[0][\"C\"]"
   ]
  },
  {
   "cell_type": "code",
   "execution_count": 27,
   "metadata": {},
   "outputs": [
    {
     "name": "stdout",
     "output_type": "stream",
     "text": [
      "Accuracy on cv set: 89.314%\n",
      "Precision on cv set: 88.961\n",
      "Recall on cv set: 89.314\n",
      "F1-Score on cv set: 86.800\n",
      "logloss on cv set: 3.691%\n",
      "Non Zero weights: 951401\n"
     ]
    },
    {
     "data": {
      "text/plain": [
       "<matplotlib.axes._subplots.AxesSubplot at 0xfdd2745c50>"
      ]
     },
     "execution_count": 27,
     "metadata": {},
     "output_type": "execute_result"
    },
    {
     "data": {
      "image/png": "[encoded data removed]",
      "text/plain": [
       "<Figure size 432x288 with 2 Axes>"
      ]
     },
     "metadata": {},
     "output_type": "display_data"
    }
   ],
   "source": [
    "import scikitplot.metrics as skplt\n",
    "from sklearn.metrics import classification_report,confusion_matrix,accuracy_score,precision_score,recall_score,f1_score,log_loss\n",
    "import seaborn as sns\n",
    "\n",
    "\n",
    "clf = LogisticRegression(C=C1 ,penalty= 'l2',class_weight=\"balanced\")#Here I am using L2 norm\n",
    "clf.fit(X_train_stnd2,y_tr)\n",
    "y_pred = clf.predict(X_cv_stnd2)\n",
    "print(\"Accuracy on cv set: %0.3f%%\"%(accuracy_score(y_cv, y_pred)*100))\n",
    "print(\"Precision on cv set: %0.3f\"%(precision_score(y_cv, y_pred,average=\"weighted\")*100))\n",
    "print(\"Recall on cv set: %0.3f\"%(recall_score(y_cv, y_pred,average=\"weighted\")*100))\n",
    "print(\"F1-Score on cv set: %0.3f\"%(f1_score(y_cv, y_pred,average=\"weighted\")*100))\n",
    "print(\"logloss on cv set: %0.3f%%\"%(log_loss(y_cv, y_pred)))\n",
    "print(\"Non Zero weights:\",np.count_nonzero(clf.coef_))\n",
    "skplt.plot_confusion_matrix(y_cv,y_pred)"
   ]
  },
  {
   "cell_type": "code",
   "execution_count": 28,
   "metadata": {},
   "outputs": [
    {
     "name": "stdout",
     "output_type": "stream",
     "text": [
      "K value in Kfold is: 0.0001\n"
     ]
    },
    {
     "data": {
      "image/png": "[encoded data removed]",
      "text/plain": [
       "<Figure size 432x288 with 1 Axes>"
      ]
     },
     "metadata": {},
     "output_type": "display_data"
    }
   ],
   "source": [
    "#We gonna find the optimal k by using K fold\n",
    "cv_score=[]\n",
    "mylist=[1000,500,100,50,10,5,1,0.5,0.1,0.05,0.01,0.005,0.001,0.0005,0.0001]\n",
    "for k in mylist:# my list contains odd from 1 to 30\n",
    "    lr=LogisticRegression(C=k,class_weight=\"balanced\")\n",
    "    score=cross_val_score(lr,X_train_stnd2,y_tr,cv=10,scoring=\"f1\")#here i am using my X and Y as X_tr and y_tr\n",
    "    #print(score)\n",
    "    cv_score.append(score.mean())#score gives as 10 score for each odd numbers so we should take score.mean()and store it in cv_score\n",
    "import matplotlib.pyplot as plt\n",
    "#print(cv_score)\n",
    "MSE=[1-x for x in cv_score]\n",
    "optimal_k = mylist[MSE.index(min(MSE))]\n",
    "print(\"K value in Kfold is:\",optimal_k)\n",
    "plt.plot(mylist,MSE)\n",
    "for xy in zip(mylist, np.round(MSE,2)):\n",
    "    plt.annotate('(%s, %s)' % xy, xy=xy, textcoords='data')\n",
    "plt.xlabel(\"Hyperparameter C\")\n",
    "plt.ylabel(\"Misclassification Error\")\n",
    "plt.title(\"Logistic regressionn for bigram\")\n",
    "plt.show()"
   ]
  },
  {
   "cell_type": "code",
   "execution_count": 29,
   "metadata": {},
   "outputs": [
    {
     "name": "stdout",
     "output_type": "stream",
     "text": [
      "             precision    recall  f1-score   support\n",
      "\n",
      "          0       0.86      0.27      0.41      4338\n",
      "          1       0.89      0.99      0.94     27162\n",
      "\n",
      "avg / total       0.89      0.89      0.87     31500\n",
      "\n",
      "[[ 1166  3172]\n",
      " [  194 26968]]\n",
      "true negative: 1166\n",
      "false positive:  3172\n",
      "false negative : 194\n",
      "true positive  26968\n"
     ]
    }
   ],
   "source": [
    "print(classification_report(y_cv, y_pred))#classification report gives the report of accuracy score,precision score,recall,f1score\n",
    "cv_acc=confusion_matrix(y_cv,y_pred)\n",
    "print(cv_acc)\n",
    "tn, fp, fn, tp = confusion_matrix(y_cv,y_pred).ravel()\n",
    "print(\"true negative:\",tn)\n",
    "print(\"false positive: \",fp)\n",
    "print(\"false negative :\",fn)\n",
    "print(\"true positive \",tp)"
   ]
  },
  {
   "cell_type": "code",
   "execution_count": 30,
   "metadata": {},
   "outputs": [
    {
     "name": "stdout",
     "output_type": "stream",
     "text": [
      "Accuracy on test set: 85.204%\n",
      "Precision on test set: 86.450\n",
      "Recall on test set: 85.204\n",
      "F1-Score on test set: 80.048\n",
      "logloss on test set: 5.110%\n",
      "Non Zero weights: 951401\n"
     ]
    },
    {
     "data": {
      "text/plain": [
       "<matplotlib.axes._subplots.AxesSubplot at 0xfdd251d240>"
      ]
     },
     "execution_count": 30,
     "metadata": {},
     "output_type": "execute_result"
    },
    {
     "data": {
      "image/png": "[encoded data removed]",
      "text/plain": [
       "<Figure size 432x288 with 2 Axes>"
      ]
     },
     "metadata": {},
     "output_type": "display_data"
    }
   ],
   "source": [
    "import scikitplot.metrics as skplt\n",
    "from sklearn.metrics import classification_report,confusion_matrix,accuracy_score,precision_score,recall_score,f1_score,log_loss\n",
    "import seaborn as sns\n",
    "\n",
    "\n",
    "clf = LogisticRegression(C=C1 ,penalty= 'l2')#Here I am using L2 norm\n",
    "clf.fit(X_train_stnd2,y_tr)\n",
    "y_pred = clf.predict(X_test_stnd2)\n",
    "print(\"Accuracy on test set: %0.3f%%\"%(accuracy_score(y_test, y_pred)*100))\n",
    "print(\"Precision on test set: %0.3f\"%(precision_score(y_test, y_pred,average=\"weighted\")*100))\n",
    "print(\"Recall on test set: %0.3f\"%(recall_score(y_test, y_pred,average=\"weighted\")*100))\n",
    "print(\"F1-Score on test set: %0.3f\"%(f1_score(y_test, y_pred,average=\"weighted\")*100))\n",
    "print(\"logloss on test set: %0.3f%%\"%(log_loss(y_test, y_pred)))\n",
    "print(\"Non Zero weights:\",np.count_nonzero(clf.coef_))\n",
    "skplt.plot_confusion_matrix(y_test,y_pred)"
   ]
  },
  {
   "cell_type": "code",
   "execution_count": 31,
   "metadata": {},
   "outputs": [
    {
     "name": "stdout",
     "output_type": "stream",
     "text": [
      "Best HyperParameter:  {'C': 50}\n",
      "Best Accuracy: 89.63%\n"
     ]
    }
   ],
   "source": [
    "from sklearn.model_selection import RandomizedSearchCV\n",
    "from sklearn.linear_model import LogisticRegression\n",
    "\n",
    "clf = LogisticRegression(penalty='l2')\n",
    "#params we need to try on classifier\n",
    "param_grid = {'C':[1000,500,100,50,10,5,1,0.5,0.1,0.05,0.01,0.005,0.001,0.0005,0.0001]}\n",
    "rsv = RandomizedSearchCV(clf,param_grid,cv=5,verbose=0)\n",
    "rsv.fit(X_train_stnd2,y_tr)\n",
    "print(\"Best HyperParameter: \",rsv.best_params_)\n",
    "print(\"Best Accuracy: %.2f%%\"%(rsv.best_score_*100))\n",
    "#print(\"Non Zero weights:\",np.count_nonzero(clf.coef_))\n"
   ]
  },
  {
   "cell_type": "markdown",
   "metadata": {},
   "source": [
    "# W2V"
   ]
  },
  {
   "cell_type": "code",
   "execution_count": 32,
   "metadata": {},
   "outputs": [
    {
     "name": "stderr",
     "output_type": "stream",
     "text": [
      "C:\\Users\\Admin\\Anaconda3\\lib\\site-packages\\gensim\\utils.py:1209: UserWarning: detected Windows; aliasing chunkize to chunkize_serial\n",
      "  warnings.warn(\"detected Windows; aliasing chunkize to chunkize_serial\")\n"
     ]
    }
   ],
   "source": [
    "from gensim.models import Word2Vec    \n",
    "from gensim.models import KeyedVectors\n",
    "import pickle\n",
    "\n",
    "i=0\n",
    "list_of_sent=[]\n",
    "for sent in X_tr['cleaned_data'].values:\n",
    "    list_of_sent.append(sent.split())"
   ]
  },
  {
   "cell_type": "code",
   "execution_count": 33,
   "metadata": {},
   "outputs": [],
   "source": [
    "w2v_model=Word2Vec(list_of_sent,min_count=5,size=50, workers=4)\n",
    "w2v_words=list(w2v_model.wv.vocab)\n",
    "#print(w2v_words)"
   ]
  },
  {
   "cell_type": "markdown",
   "metadata": {},
   "source": [
    "# AVGW2V"
   ]
  },
  {
   "cell_type": "code",
   "execution_count": 34,
   "metadata": {},
   "outputs": [
    {
     "name": "stdout",
     "output_type": "stream",
     "text": [
      "73500\n",
      "50\n"
     ]
    }
   ],
   "source": [
    "Avg_w2v_train = []; # the avg-w2v for each sentence/review is stored in this list\n",
    "for sent in X_tr['cleaned_data']: \n",
    "    sent_vec = np.zeros(50)# as word vectors are of zero length\n",
    "    cnt_words =0; \n",
    "    for word in sent.split(): # for each word in a review/sentence\n",
    "        #print(word)\n",
    "        if word in w2v_words:\n",
    "            vec = w2v_model.wv[word]#wv is used to convrt word into vector\n",
    "            sent_vec += vec #we adding that vector into zeros[50]\n",
    "            #print(sent_vec)\n",
    "            cnt_words += 1 #the valid vector increasing by 1\n",
    "    if cnt_words != 0: #if its an valid vector\n",
    "        sent_vec /= cnt_words\n",
    "    Avg_w2v_train.append(sent_vec)\n",
    "print(len(Avg_w2v_train))\n",
    "print(len(Avg_w2v_train[0]))\n",
    "#print(Avg_w2v_train)"
   ]
  },
  {
   "cell_type": "code",
   "execution_count": 35,
   "metadata": {},
   "outputs": [
    {
     "name": "stdout",
     "output_type": "stream",
     "text": [
      "45000\n",
      "50\n"
     ]
    }
   ],
   "source": [
    "Avg_w2v_test = []; # the avg-w2v for each sentence/review is stored in this list\n",
    "for sent in X_test['cleaned_data']: \n",
    "    sent_vec = np.zeros(50) # as word vectors are of zero length\n",
    "    cnt_words =0; \n",
    "    for word in sent.split(): # for each word in a review/sentence\n",
    "        #print(word)\n",
    "        if word in w2v_words:\n",
    "            vec = w2v_model.wv[word]#wv is used to convrt word into vector\n",
    "            sent_vec += vec #we adding that vector into zeros[50]\n",
    "            cnt_words += 1 #the valid vector increasing by 1\n",
    "    if cnt_words != 0: #if its an valid vector\n",
    "        sent_vec /= cnt_words\n",
    "    Avg_w2v_test.append(sent_vec)\n",
    "print(len(Avg_w2v_test))\n",
    "print(len(Avg_w2v_test[0]))"
   ]
  },
  {
   "cell_type": "code",
   "execution_count": 36,
   "metadata": {},
   "outputs": [
    {
     "name": "stdout",
     "output_type": "stream",
     "text": [
      "31500\n",
      "50\n"
     ]
    }
   ],
   "source": [
    "Avg_w2v_cv = []; # the avg-w2v for each sentence/review is stored in this list\n",
    "for sent in X_cv['cleaned_data']: \n",
    "    sent_vec = np.zeros(50) # as word vectors are of zero length\n",
    "    cnt_words =0; \n",
    "    for word in sent.split(): # for each word in a review/sentence\n",
    "        #print(word)\n",
    "        if word in w2v_words:\n",
    "            vec = w2v_model.wv[word]#wv is used to convrt word into vector\n",
    "            sent_vec += vec #we adding that vector into zeros[50]\n",
    "            cnt_words += 1 #the valid vector increasing by 1\n",
    "    if cnt_words != 0: #if its an valid vector\n",
    "        sent_vec /= cnt_words\n",
    "    Avg_w2v_cv.append(sent_vec)\n",
    "print(len(Avg_w2v_cv))\n",
    "print(len(Avg_w2v_cv[0]))\n",
    "#print(Avg_w2v_cv)"
   ]
  },
  {
   "cell_type": "code",
   "execution_count": 37,
   "metadata": {},
   "outputs": [],
   "source": [
    "from sklearn.preprocessing import StandardScaler\n",
    "std_avg=StandardScaler(with_mean=False)\n",
    "std_avg.fit(Avg_w2v_train)\n",
    "X_train_stnd2=std_avg.transform(Avg_w2v_train)\n",
    "X_test_stnd2=std_avg.transform(Avg_w2v_test)\n",
    "X_cv_stnd2=std_avg.transform(Avg_w2v_cv)"
   ]
  },
  {
   "cell_type": "code",
   "execution_count": 38,
   "metadata": {},
   "outputs": [
    {
     "name": "stdout",
     "output_type": "stream",
     "text": [
      "Best HyperParameter:  {'C': 0.05, 'penalty': 'l2'}\n",
      "Best Accuracy: 88.03%\n"
     ]
    }
   ],
   "source": [
    "from sklearn.model_selection import GridSearchCV\n",
    "from sklearn.linear_model import LogisticRegression\n",
    "\n",
    "clf = LogisticRegression(class_weight='balanced')\n",
    "#params we need to try on classifier\n",
    "params=[]\n",
    "param_grid = {'C':[1000,500,100,50,10,5,1,0.5,0.1,0.05,0.01,0.005,0.001,0.0005,0.0001],\n",
    "             'penalty':['l2']}               #here I am using l2 norm\n",
    "gsv = GridSearchCV(clf,param_grid,cv=10,scoring=\"f1\")#grid_search is used to find the best optimal C\n",
    "gsv.fit(X_train_stnd2,y_tr)#fit the model only in train dataset\n",
    "print(\"Best HyperParameter: \",gsv.best_params_)#the attributes best_params_ gives the Best hyper parameter value\n",
    "print(\"Best Accuracy: %.2f%%\"%(gsv.best_score_*100))#the attribute best_score_ gives the Accuracy of the grid search which gives best C through logistic regression\n",
    "#print(y_tr.value_counts())\n",
    "#print(X_tr['Score'].value_counts())\n",
    "params.append(gsv.best_params_)\n",
    "C1=params[0][\"C\"]"
   ]
  },
  {
   "cell_type": "code",
   "execution_count": 39,
   "metadata": {},
   "outputs": [
    {
     "name": "stdout",
     "output_type": "stream",
     "text": [
      "Accuracy on cv set: 89.606%\n",
      "Precision on cv set: 88.463\n",
      "Recall on cv set: 89.606\n",
      "F1-Score on cv set: 88.169\n",
      "logloss on cv set: 3.590%\n",
      "Non Zero weights: 50\n"
     ]
    },
    {
     "data": {
      "text/plain": [
       "<matplotlib.axes._subplots.AxesSubplot at 0xfe17b5d5f8>"
      ]
     },
     "execution_count": 39,
     "metadata": {},
     "output_type": "execute_result"
    },
    {
     "data": {
      "image/png": "[encoded data removed]",
      "text/plain": [
       "<Figure size 432x288 with 2 Axes>"
      ]
     },
     "metadata": {},
     "output_type": "display_data"
    }
   ],
   "source": [
    "import scikitplot.metrics as skplt\n",
    "from sklearn.metrics import classification_report,confusion_matrix,accuracy_score,precision_score,recall_score,f1_score,log_loss\n",
    "import seaborn as sns\n",
    "\n",
    "\n",
    "clf = LogisticRegression(C=C1 ,penalty= 'l2')#Here I am using L2 norm\n",
    "clf.fit(X_train_stnd2,y_tr)\n",
    "y_pred = clf.predict(X_cv_stnd2)\n",
    "print(\"Accuracy on cv set: %0.3f%%\"%(accuracy_score(y_cv, y_pred)*100))\n",
    "print(\"Precision on cv set: %0.3f\"%(precision_score(y_cv, y_pred,average=\"weighted\")*100))\n",
    "print(\"Recall on cv set: %0.3f\"%(recall_score(y_cv, y_pred,average=\"weighted\")*100))\n",
    "print(\"F1-Score on cv set: %0.3f\"%(f1_score(y_cv, y_pred,average=\"weighted\")*100))\n",
    "print(\"logloss on cv set: %0.3f%%\"%(log_loss(y_cv, y_pred)))\n",
    "print(\"Non Zero weights:\",np.count_nonzero(clf.coef_))\n",
    "skplt.plot_confusion_matrix(y_cv,y_pred)"
   ]
  },
  {
   "cell_type": "code",
   "execution_count": 40,
   "metadata": {},
   "outputs": [
    {
     "name": "stdout",
     "output_type": "stream",
     "text": [
      "K value in Kfold is: 0.05\n"
     ]
    },
    {
     "data": {
      "image/png": "[encoded data removed]",
      "text/plain": [
       "<Figure size 432x288 with 1 Axes>"
      ]
     },
     "metadata": {},
     "output_type": "display_data"
    }
   ],
   "source": [
    "#We gonna find the optimal k by using K fold\n",
    "cv_score=[]\n",
    "mylist=[1000,500,100,50,10,5,1,0.5,0.1,0.05,0.01,0.005,0.001,0.0005,0.0001]\n",
    "for k in mylist:# my list contains odd from 1 to 30\n",
    "    lr=LogisticRegression(C=k,class_weight=\"balanced\")\n",
    "    score=cross_val_score(lr,X_train_stnd2,y_tr,cv=10,scoring=\"f1\")#here i am using my X and Y as X_tr and y_tr\n",
    "    #print(score)\n",
    "    cv_score.append(score.mean())#score gives as 10 score for each odd numbers so we should take score.mean()and store it in cv_score\n",
    "import matplotlib.pyplot as plt\n",
    "#print(cv_score)\n",
    "MSE=[1-x for x in cv_score]\n",
    "optimal_k = mylist[MSE.index(min(MSE))]\n",
    "print(\"K value in Kfold is:\",optimal_k)\n",
    "plt.plot(mylist,MSE)\n",
    "for xy in zip(mylist, np.round(MSE,2)):\n",
    "    plt.annotate('(%s, %s)' % xy, xy=xy, textcoords='data')\n",
    "plt.xlabel(\"Hyperparameter C\")\n",
    "plt.ylabel(\"Misclassification Error\")\n",
    "plt.title(\"Logistic regressionn for bigram\")\n",
    "plt.show()"
   ]
  },
  {
   "cell_type": "code",
   "execution_count": 41,
   "metadata": {},
   "outputs": [
    {
     "name": "stdout",
     "output_type": "stream",
     "text": [
      "Accuracy on test set: 87.811%\n",
      "Precision on test set: 86.755\n",
      "Recall on test set: 87.811\n",
      "F1-Score on test set: 86.145\n",
      "logloss on test set: 4.210%\n",
      "Non Zero weights: 50\n"
     ]
    },
    {
     "data": {
      "text/plain": [
       "<matplotlib.axes._subplots.AxesSubplot at 0xfdbff86ba8>"
      ]
     },
     "execution_count": 41,
     "metadata": {},
     "output_type": "execute_result"
    },
    {
     "data": {
      "image/png": "[encoded data removed]",
      "text/plain": [
       "<Figure size 432x288 with 2 Axes>"
      ]
     },
     "metadata": {},
     "output_type": "display_data"
    }
   ],
   "source": [
    "import scikitplot.metrics as skplt\n",
    "from sklearn.metrics import classification_report,confusion_matrix,accuracy_score,precision_score,recall_score,f1_score,log_loss\n",
    "import seaborn as sns\n",
    "\n",
    "\n",
    "clf = LogisticRegression(C=0.05 ,penalty= 'l2')#Here I am using L2 norm\n",
    "clf.fit(X_train_stnd2,y_tr)\n",
    "y_pred = clf.predict(X_test_stnd2)\n",
    "print(\"Accuracy on test set: %0.3f%%\"%(accuracy_score(y_test, y_pred)*100))\n",
    "print(\"Precision on test set: %0.3f\"%(precision_score(y_test, y_pred,average=\"weighted\")*100))\n",
    "print(\"Recall on test set: %0.3f\"%(recall_score(y_test, y_pred,average=\"weighted\")*100))\n",
    "print(\"F1-Score on test set: %0.3f\"%(f1_score(y_test, y_pred,average=\"weighted\")*100))\n",
    "print(\"logloss on test set: %0.3f%%\"%(log_loss(y_test, y_pred)))\n",
    "print(\"Non Zero weights:\",np.count_nonzero(clf.coef_))\n",
    "skplt.plot_confusion_matrix(y_test,y_pred)"
   ]
  },
  {
   "cell_type": "code",
   "execution_count": 42,
   "metadata": {},
   "outputs": [
    {
     "name": "stdout",
     "output_type": "stream",
     "text": [
      "Best HyperParameter:  {'C': 0.1}\n",
      "Best Accuracy: 90.78%\n"
     ]
    }
   ],
   "source": [
    "from sklearn.model_selection import RandomizedSearchCV\n",
    "from sklearn.linear_model import LogisticRegression\n",
    "\n",
    "clf = LogisticRegression(penalty='l2')\n",
    "#params we need to try on classifier\n",
    "param_grid = {'C':[1000,500,100,50,10,5,1,0.5,0.1,0.05,0.01,0.005,0.001,0.0005,0.0001]}\n",
    "rsv = RandomizedSearchCV(clf,param_grid,cv=5,verbose=0)\n",
    "rsv.fit(X_train_stnd2,y_tr)\n",
    "print(\"Best HyperParameter: \",rsv.best_params_)\n",
    "print(\"Best Accuracy: %.2f%%\"%(rsv.best_score_*100))\n",
    "#print(\"Non Zero weights:\",np.count_nonzero(clf.coef_))\n"
   ]
  },
  {
   "cell_type": "markdown",
   "metadata": {},
   "source": [
    "# TFIDF"
   ]
  },
  {
   "cell_type": "code",
   "execution_count": 43,
   "metadata": {},
   "outputs": [],
   "source": [
    "from sklearn.feature_extraction.text import TfidfTransformer  #tf is calculated by no of wi occurs in rj/no of words in rj \n",
    "from sklearn.feature_extraction.text import TfidfVectorizer    #idf is calculated by no of docs/docs which contains wi                                                 \n",
    "tf_idf_vect = TfidfVectorizer(ngram_range=(1,2))#tfidf=tf*idf\n",
    "final_tfidf = tf_idf_vect.fit(X_tr[\"cleaned_data\"].values)\n",
    "tfidf_train=tf_idf_vect.transform(X_tr[\"cleaned_data\"])\n",
    "tfidf_test=tf_idf_vect.transform(X_test[\"cleaned_data\"])\n",
    "tfidf_cv=tf_idf_vect.transform(X_cv[\"cleaned_data\"])"
   ]
  },
  {
   "cell_type": "code",
   "execution_count": 44,
   "metadata": {},
   "outputs": [],
   "source": [
    "from sklearn.preprocessing import StandardScaler\n",
    "std_tfidf=StandardScaler(with_mean=False)\n",
    "std_tfidf.fit(tfidf_train)\n",
    "stnd_data_tfidf=std_tfidf.transform(tfidf_train)\n",
    "stnd_data_tfidf_test=std_tfidf.transform(tfidf_test)\n",
    "stnd_data_tfidf_cv=std_tfidf.transform(tfidf_cv)\n"
   ]
  },
  {
   "cell_type": "code",
   "execution_count": 45,
   "metadata": {},
   "outputs": [
    {
     "name": "stdout",
     "output_type": "stream",
     "text": [
      "Best HyperParameter:  {'C': 0.0001, 'penalty': 'l2'}\n",
      "Best Accuracy: 94.73%\n"
     ]
    }
   ],
   "source": [
    "from sklearn.model_selection import GridSearchCV\n",
    "from sklearn.linear_model import LogisticRegression\n",
    "\n",
    "clf = LogisticRegression(class_weight='balanced')\n",
    "#params we need to try on classifier\n",
    "params=[]\n",
    "param_grid = {'C':[1000,500,100,50,10,5,1,0.5,0.1,0.05,0.01,0.005,0.001,0.0005,0.0001],\n",
    "             'penalty':['l2']}               #here I am using l2 norm\n",
    "gsv = GridSearchCV(clf,param_grid,cv=10,scoring=\"f1\")#grid_search is used to find the best optimal C\n",
    "gsv.fit(stnd_data_tfidf,y_tr)#fit the model only in train dataset\n",
    "print(\"Best HyperParameter: \",gsv.best_params_)#the attributes best_params_ gives the Best hyper parameter value\n",
    "print(\"Best Accuracy: %.2f%%\"%(gsv.best_score_*100))#the attribute best_score_ gives the Accuracy of the grid search which gives best C through logistic regression\n",
    "#print(y_tr.value_counts())\n",
    "#print(X_tr['Score'].value_counts())\n",
    "params.append(gsv.best_params_)\n",
    "C1=params[0][\"C\"]"
   ]
  },
  {
   "cell_type": "code",
   "execution_count": 46,
   "metadata": {},
   "outputs": [
    {
     "name": "stdout",
     "output_type": "stream",
     "text": [
      "Accuracy on cv set: 89.102%\n",
      "Precision on cv set: 88.891\n",
      "Recall on cv set: 89.102\n",
      "F1-Score on cv set: 86.342\n",
      "logloss on cv set: 3.764%\n",
      "Non Zero weights: 951401\n"
     ]
    },
    {
     "data": {
      "text/plain": [
       "<matplotlib.axes._subplots.AxesSubplot at 0xfe23e095f8>"
      ]
     },
     "execution_count": 46,
     "metadata": {},
     "output_type": "execute_result"
    },
    {
     "data": {
      "image/png": "[encoded data removed]",
      "text/plain": [
       "<Figure size 432x288 with 2 Axes>"
      ]
     },
     "metadata": {},
     "output_type": "display_data"
    }
   ],
   "source": [
    "import scikitplot.metrics as skplt\n",
    "from sklearn.metrics import classification_report,confusion_matrix,accuracy_score,precision_score,recall_score,f1_score,log_loss\n",
    "import seaborn as sns\n",
    "\n",
    "\n",
    "clf = LogisticRegression(C=C1 ,penalty= 'l2',class_weight=\"balanced\")#Here I am using L2 norm\n",
    "clf.fit(stnd_data_tfidf,y_tr)\n",
    "y_pred = clf.predict(stnd_data_tfidf_cv)\n",
    "print(\"Accuracy on cv set: %0.3f%%\"%(accuracy_score(y_cv, y_pred)*100))\n",
    "print(\"Precision on cv set: %0.3f\"%(precision_score(y_cv, y_pred,average=\"weighted\")*100))\n",
    "print(\"Recall on cv set: %0.3f\"%(recall_score(y_cv, y_pred,average=\"weighted\")*100))\n",
    "print(\"F1-Score on cv set: %0.3f\"%(f1_score(y_cv, y_pred,average=\"weighted\")*100))\n",
    "print(\"logloss on cv set: %0.3f%%\"%(log_loss(y_cv, y_pred)))\n",
    "print(\"Non Zero weights:\",np.count_nonzero(clf.coef_))\n",
    "skplt.plot_confusion_matrix(y_cv,y_pred)"
   ]
  },
  {
   "cell_type": "code",
   "execution_count": 47,
   "metadata": {},
   "outputs": [
    {
     "name": "stdout",
     "output_type": "stream",
     "text": [
      "K value in Kfold is: 0.0001\n"
     ]
    },
    {
     "data": {
      "image/png": "[encoded data removed]",
      "text/plain": [
       "<Figure size 432x288 with 1 Axes>"
      ]
     },
     "metadata": {},
     "output_type": "display_data"
    }
   ],
   "source": [
    "#We gonna find the optimal k by using K fold\n",
    "cv_score=[]\n",
    "mylist=[1000,500,100,50,10,5,1,0.5,0.1,0.05,0.01,0.005,0.001,0.0005,0.0001]\n",
    "for k in mylist:# my list contains odd from 1 to 30\n",
    "    lr=LogisticRegression(C=k,class_weight=\"balanced\")\n",
    "    score=cross_val_score(lr,stnd_data_tfidf,y_tr,cv=10,scoring=\"f1\")#here i am using my X and Y as X_tr and y_tr\n",
    "    #print(score)\n",
    "    cv_score.append(score.mean())#score gives as 10 score for each odd numbers so we should take score.mean()and store it in cv_score\n",
    "import matplotlib.pyplot as plt\n",
    "#print(cv_score)\n",
    "MSE=[1-x for x in cv_score]\n",
    "optimal_k = mylist[MSE.index(min(MSE))]\n",
    "print(\"K value in Kfold is:\",optimal_k)\n",
    "plt.plot(mylist,MSE)\n",
    "for xy in zip(mylist, np.round(MSE,2)):\n",
    "    plt.annotate('(%s, %s)' % xy, xy=xy, textcoords='data')\n",
    "plt.xlabel(\"Hyperparameter C\")\n",
    "plt.ylabel(\"Misclassification Error\")\n",
    "plt.title(\"Logistic regressionn for bigram\")\n",
    "plt.show()"
   ]
  },
  {
   "cell_type": "code",
   "execution_count": 48,
   "metadata": {},
   "outputs": [
    {
     "name": "stdout",
     "output_type": "stream",
     "text": [
      "Accuracy on test set: 85.769%\n",
      "Precision on test set: 86.740\n",
      "Recall on test set: 85.769\n",
      "F1-Score on test set: 81.246\n",
      "logloss on test set: 4.915%\n",
      "Non Zero weights: 951401\n"
     ]
    },
    {
     "data": {
      "text/plain": [
       "<matplotlib.axes._subplots.AxesSubplot at 0xfdc7040dd8>"
      ]
     },
     "execution_count": 48,
     "metadata": {},
     "output_type": "execute_result"
    },
    {
     "data": {
      "image/png": "[encoded data removed]",
      "text/plain": [
       "<Figure size 432x288 with 2 Axes>"
      ]
     },
     "metadata": {},
     "output_type": "display_data"
    }
   ],
   "source": [
    "import scikitplot.metrics as skplt\n",
    "from sklearn.metrics import classification_report,confusion_matrix,accuracy_score,precision_score,recall_score,f1_score,log_loss\n",
    "import seaborn as sns\n",
    "\n",
    "\n",
    "clf = LogisticRegression(C=0.05 ,penalty= 'l2')#Here I am using L2 norm\n",
    "clf.fit(stnd_data_tfidf,y_tr)\n",
    "y_pred = clf.predict(stnd_data_tfidf_test)\n",
    "print(\"Accuracy on test set: %0.3f%%\"%(accuracy_score(y_test, y_pred)*100))\n",
    "print(\"Precision on test set: %0.3f\"%(precision_score(y_test, y_pred,average=\"weighted\")*100))\n",
    "print(\"Recall on test set: %0.3f\"%(recall_score(y_test, y_pred,average=\"weighted\")*100))\n",
    "print(\"F1-Score on test set: %0.3f\"%(f1_score(y_test, y_pred,average=\"weighted\")*100))\n",
    "print(\"logloss on test set: %0.3f%%\"%(log_loss(y_test, y_pred)))\n",
    "print(\"Non Zero weights:\",np.count_nonzero(clf.coef_))\n",
    "skplt.plot_confusion_matrix(y_test,y_pred)"
   ]
  },
  {
   "cell_type": "markdown",
   "metadata": {},
   "source": [
    "# TFIDF AVG W2V"
   ]
  },
  {
   "cell_type": "code",
   "execution_count": 49,
   "metadata": {},
   "outputs": [],
   "source": [
    "dictionary = dict(zip(tf_idf_vect.get_feature_names(), list(tf_idf_vect.idf_)))"
   ]
  },
  {
   "cell_type": "code",
   "execution_count": 50,
   "metadata": {},
   "outputs": [],
   "source": [
    "#AVG TFIDF W2V\n",
    "tfidf_feat = tf_idf_vect.get_feature_names() \n",
    "\n",
    "tfidf_sent_vectors = [];\n",
    "row=0;\n",
    "for sent in X_tr[\"cleaned_data\"]: \n",
    "    sent_vec = np.zeros(50) \n",
    "    weight_sum =0; \n",
    "    #print(sent)\n",
    "    for word in sent.split(): \n",
    "       # print(word)\n",
    "        if word in w2v_words:\n",
    "            vec = w2v_model.wv[word]\n",
    "            #tf_idf = tfidf_train[row, tfidf_feat.index(word)]\n",
    "            tf_idf = dictionary[word]*sent.count(word)\n",
    "           # print(tf_idf)\n",
    "            sent_vec += (vec * tf_idf)\n",
    "            weight_sum += tf_idf\n",
    "    if weight_sum != 0:\n",
    "        sent_vec /= weight_sum\n",
    "       # print(sent_vec)\n",
    "    tfidf_sent_vectors.append(sent_vec)\n",
    "   # print(sent_vec)\n",
    "    row += 1"
   ]
  },
  {
   "cell_type": "code",
   "execution_count": 51,
   "metadata": {},
   "outputs": [],
   "source": [
    "\n",
    "tfidf_sent_vectors_test = [];\n",
    "row=0;\n",
    "for sent in X_test[\"cleaned_data\"]: \n",
    "    sent_vec = np.zeros(50) \n",
    "    weight_sum =0; \n",
    "    for word in sent.split(): \n",
    "        if word in w2v_words:\n",
    "            vec = w2v_model.wv[word]\n",
    "            tf_idf = dictionary[word]*sent.count(word)\n",
    "            sent_vec += (vec * tf_idf)\n",
    "            weight_sum += tf_idf\n",
    "    if weight_sum != 0:\n",
    "        sent_vec /= weight_sum\n",
    "    tfidf_sent_vectors_test.append(sent_vec)\n",
    "    row += 1"
   ]
  },
  {
   "cell_type": "code",
   "execution_count": 52,
   "metadata": {},
   "outputs": [],
   "source": [
    "\n",
    "tfidf_sent_vectors_cv = [];\n",
    "row=0;\n",
    "for sent in X_cv[\"cleaned_data\"]: \n",
    "    sent_vec = np.zeros(50) \n",
    "    weight_sum =0; \n",
    "    for word in sent.split(): \n",
    "        #print(word)\n",
    "        if word in w2v_words:\n",
    "            vec = w2v_model.wv[word]\n",
    "            tf_idf = dictionary[word]*sent.count(word)\n",
    "            sent_vec += (vec * tf_idf)\n",
    "            weight_sum += tf_idf\n",
    "    if weight_sum != 0:\n",
    "        sent_vec /= weight_sum\n",
    "    tfidf_sent_vectors_cv.append(sent_vec)\n",
    "    row += 1\n",
    "#print(tfidf_sent_vectors_cv)"
   ]
  },
  {
   "cell_type": "code",
   "execution_count": 53,
   "metadata": {},
   "outputs": [
    {
     "name": "stdout",
     "output_type": "stream",
     "text": [
      "Best HyperParameter:  {'C': 0.05, 'penalty': 'l2'}\n",
      "Best Accuracy: 86.43%\n"
     ]
    }
   ],
   "source": [
    "from sklearn.model_selection import GridSearchCV\n",
    "from sklearn.linear_model import LogisticRegression\n",
    "\n",
    "clf = LogisticRegression(class_weight='balanced')\n",
    "#params we need to try on classifier\n",
    "params=[]\n",
    "param_grid = {'C':[1000,500,100,50,10,5,1,0.5,0.1,0.05,0.01,0.005,0.001,0.0005,0.0001],\n",
    "             'penalty':['l2']}               #here I am using l2 norm\n",
    "gsv = GridSearchCV(clf,param_grid,cv=10,scoring=\"f1\")#grid_search is used to find the best optimal C\n",
    "gsv.fit(tfidf_sent_vectors,y_tr)#fit the model only in train dataset\n",
    "print(\"Best HyperParameter: \",gsv.best_params_)#the attributes best_params_ gives the Best hyper parameter value\n",
    "print(\"Best Accuracy: %.2f%%\"%(gsv.best_score_*100))#the attribute best_score_ gives the Accuracy of the grid search which gives best C through logistic regression\n",
    "#print(y_tr.value_counts())\n",
    "#print(X_tr['Score'].value_counts())\n",
    "params.append(gsv.best_params_)\n",
    "C1=params[0][\"C\"]"
   ]
  },
  {
   "cell_type": "code",
   "execution_count": 54,
   "metadata": {},
   "outputs": [
    {
     "name": "stdout",
     "output_type": "stream",
     "text": [
      "Accuracy on cv set: 77.794%\n",
      "Precision on cv set: 88.053\n",
      "Recall on cv set: 77.794\n",
      "F1-Score on cv set: 80.825\n",
      "logloss on cv set: 7.670%\n",
      "Non Zero weights: 50\n"
     ]
    },
    {
     "data": {
      "text/plain": [
       "<matplotlib.axes._subplots.AxesSubplot at 0xfe39c57518>"
      ]
     },
     "execution_count": 54,
     "metadata": {},
     "output_type": "execute_result"
    },
    {
     "data": {
      "image/png": "[encoded data removed]",
      "text/plain": [
       "<Figure size 432x288 with 2 Axes>"
      ]
     },
     "metadata": {},
     "output_type": "display_data"
    }
   ],
   "source": [
    "import scikitplot.metrics as skplt\n",
    "from sklearn.metrics import classification_report,confusion_matrix,accuracy_score,precision_score,recall_score,f1_score,log_loss\n",
    "import seaborn as sns\n",
    "\n",
    "\n",
    "clf = LogisticRegression(C=C1 ,penalty= 'l2',class_weight=\"balanced\")#Here I am using L2 norm\n",
    "clf.fit(tfidf_sent_vectors,y_tr)\n",
    "y_pred = clf.predict(tfidf_sent_vectors_cv)\n",
    "print(\"Accuracy on cv set: %0.3f%%\"%(accuracy_score(y_cv, y_pred)*100))\n",
    "print(\"Precision on cv set: %0.3f\"%(precision_score(y_cv, y_pred,average=\"weighted\")*100))\n",
    "print(\"Recall on cv set: %0.3f\"%(recall_score(y_cv, y_pred,average=\"weighted\")*100))\n",
    "print(\"F1-Score on cv set: %0.3f\"%(f1_score(y_cv, y_pred,average=\"weighted\")*100))\n",
    "print(\"logloss on cv set: %0.3f%%\"%(log_loss(y_cv, y_pred)))\n",
    "print(\"Non Zero weights:\",np.count_nonzero(clf.coef_))\n",
    "skplt.plot_confusion_matrix(y_cv,y_pred)"
   ]
  },
  {
   "cell_type": "code",
   "execution_count": 55,
   "metadata": {},
   "outputs": [
    {
     "name": "stdout",
     "output_type": "stream",
     "text": [
      "K value in Kfold is: 0.05\n"
     ]
    },
    {
     "data": {
      "image/png": "[encoded data removed]",
      "text/plain": [
       "<Figure size 432x288 with 1 Axes>"
      ]
     },
     "metadata": {},
     "output_type": "display_data"
    }
   ],
   "source": [
    "#We gonna find the optimal k by using K fold\n",
    "cv_score=[]\n",
    "mylist=[1000,500,100,50,10,5,1,0.5,0.1,0.05,0.01,0.005,0.001,0.0005,0.0001]\n",
    "for k in mylist:# my list contains odd from 1 to 30\n",
    "    lr=LogisticRegression(C=k,class_weight=\"balanced\")\n",
    "    score=cross_val_score(lr,tfidf_sent_vectors,y_tr,cv=10,scoring=\"f1\")#here i am using my X and Y as X_tr and y_tr\n",
    "    #print(score)\n",
    "    cv_score.append(score.mean())#score gives as 10 score for each odd numbers so we should take score.mean()and store it in cv_score\n",
    "import matplotlib.pyplot as plt\n",
    "#print(cv_score)\n",
    "MSE=[1-x for x in cv_score]\n",
    "optimal_k = mylist[MSE.index(min(MSE))]\n",
    "print(\"K value in Kfold is:\",optimal_k)\n",
    "plt.plot(mylist,MSE)\n",
    "for xy in zip(mylist, np.round(MSE,2)):\n",
    "    plt.annotate('(%s, %s)' % xy, xy=xy, textcoords='data')\n",
    "plt.xlabel(\"Hyperparameter C\")\n",
    "plt.ylabel(\"Misclassification Error\")\n",
    "plt.title(\"Logistic regressionn for bigram\")\n",
    "plt.show()"
   ]
  },
  {
   "cell_type": "code",
   "execution_count": 56,
   "metadata": {},
   "outputs": [
    {
     "name": "stdout",
     "output_type": "stream",
     "text": [
      "Accuracy on test set: 76.129%\n",
      "Precision on test set: 86.282\n",
      "Recall on test set: 76.129\n",
      "F1-Score on test set: 78.886\n",
      "logloss on test set: 8.245%\n",
      "Non Zero weights: 50\n"
     ]
    },
    {
     "data": {
      "text/plain": [
       "<matplotlib.axes._subplots.AxesSubplot at 0xfe2f0ec8d0>"
      ]
     },
     "execution_count": 56,
     "metadata": {},
     "output_type": "execute_result"
    },
    {
     "data": {
      "image/png": "[encoded data removed]",
      "text/plain": [
       "<Figure size 432x288 with 2 Axes>"
      ]
     },
     "metadata": {},
     "output_type": "display_data"
    }
   ],
   "source": [
    "import scikitplot.metrics as skplt\n",
    "from sklearn.metrics import classification_report,confusion_matrix,accuracy_score,precision_score,recall_score,f1_score,log_loss\n",
    "import seaborn as sns\n",
    "\n",
    "\n",
    "clf = LogisticRegression(C=C1 ,penalty= 'l2',class_weight=\"balanced\")#Here I am using L2 norm\n",
    "clf.fit(tfidf_sent_vectors,y_tr)\n",
    "y_pred = clf.predict(tfidf_sent_vectors_test)\n",
    "print(\"Accuracy on test set: %0.3f%%\"%(accuracy_score(y_test, y_pred)*100))\n",
    "print(\"Precision on test set: %0.3f\"%(precision_score(y_test, y_pred,average=\"weighted\")*100))\n",
    "print(\"Recall on test set: %0.3f\"%(recall_score(y_test, y_pred,average=\"weighted\")*100))\n",
    "print(\"F1-Score on test set: %0.3f\"%(f1_score(y_test, y_pred,average=\"weighted\")*100))\n",
    "print(\"logloss on test set: %0.3f%%\"%(log_loss(y_test, y_pred)))\n",
    "print(\"Non Zero weights:\",np.count_nonzero(clf.coef_))\n",
    "skplt.plot_confusion_matrix(y_test,y_pred)"
   ]
  },
  {
   "cell_type": "code",
   "execution_count": 59,
   "metadata": {},
   "outputs": [
    {
     "name": "stdout",
     "output_type": "stream",
     "text": [
      "+---------------------+---------------+---------------------+------------+-----------+-----------------+----------+\n",
      "|        Model        |   vectorizer  | BEST_Hyperparameter | Trainerror | Testerror | F1 score(train) | F1(Test) |\n",
      "+---------------------+---------------+---------------------+------------+-----------+-----------------+----------+\n",
      "| logistic regression |      BOW      |       C=0.0001      |    11%     |    12%    |      90.24%     |  89.30%  |\n",
      "| logistic regression |     Bigram    |       C=0.0001      |    11%     |    15%    |      86.80%     |  80.04%  |\n",
      "| logistic regression |     AVGW2V    |        C=0.05       |    11%     |    13%    |      88.16%     |  86.14%  |\n",
      "| logistic regression |     TFIDF     |       C=0.0001      |    11%     |    15%    |      86.34%     |  81.24   |\n",
      "| logistic regression | AVG TFIDF W2V |        C=0.05       |    23%     |    24%    |      80.82%     |  78.88%  |\n",
      "+---------------------+---------------+---------------------+------------+-----------+-----------------+----------+\n"
     ]
    }
   ],
   "source": [
    "from prettytable import PrettyTable\n",
    "    \n",
    "x = PrettyTable()\n",
    "\n",
    "x.field_names = [\"Model\",\"vectorizer\",\"BEST_Hyperparameter\",\"Trainerror\", \"Testerror\",\"F1 score(train)\",\"F1(Test)\"]\n",
    "\n",
    "x.add_row([\"logistic regression\",\"BOW\",\"C=0.0001\",\"11%\",\"12%\",\"90.24%\",\"89.30%\"])\n",
    "x.add_row([\"logistic regression\",\"Bigram\",\"C=0.0001\",\"11%\",\"15%\",\"86.80%\",\"80.04%\"])\n",
    "x.add_row([\"logistic regression\",\"AVGW2V\",\"C=0.05\",\"11%\",\"13%\",\"88.16%\",\"86.14%\"])\n",
    "x.add_row([\"logistic regression\",\"TFIDF\",\"C=0.0001\",\"11%\",\"15%\",\"86.34%\",\"81.24\"])\n",
    "x.add_row([\"logistic regression\",\"AVG TFIDF W2V\",\"C=0.05\",\"23%\",\"24%\",\"80.82%\",\"78.88%\"])\n",
    "\n",
    "print(x)"
   ]
  },
  {
   "cell_type": "markdown",
   "metadata": {},
   "source": [
    "# Conclusion:\n",
    "           1)There is an change in pertubation test between before and after adding epsilon,\n",
    "           2)So the features are co-related(multi collinearity) and also there are 1020 which is greater than 40% of differnce from w1 and w2\n",
    "           3)BOW featurization is good its gives 90.24% f1 score.\n",
    "           4)Hyperparameter is differ from gridsearch and random search\n",
    "           5)Logistic regression is very fast to train model and its one of the good model for this amazon dataset"
   ]
  },
  {
   "cell_type": "code",
   "execution_count": 58,
   "metadata": {},
   "outputs": [],
   "source": []
  },
  {
   "cell_type": "code",
   "execution_count": null,
   "metadata": {},
   "outputs": [],
   "source": []
  },
  {
   "cell_type": "code",
   "execution_count": null,
   "metadata": {},
   "outputs": [],
   "source": []
  },
  {
   "cell_type": "code",
   "execution_count": null,
   "metadata": {},
   "outputs": [],
   "source": []
  },
  {
   "cell_type": "code",
   "execution_count": null,
   "metadata": {},
   "outputs": [],
   "source": []
  },
  {
   "cell_type": "code",
   "execution_count": null,
   "metadata": {},
   "outputs": [],
   "source": []
  },
  {
   "cell_type": "code",
   "execution_count": null,
   "metadata": {},
   "outputs": [],
   "source": []
  }
 ],
 "metadata": {
  "kernelspec": {
   "display_name": "Python 3",
   "language": "python",
   "name": "python3"
  },
  "language_info": {
   "codemirror_mode": {
    "name": "ipython",
    "version": 3
   },
   "file_extension": ".py",
   "mimetype": "text/x-python",
   "name": "python",
   "nbconvert_exporter": "python",
   "pygments_lexer": "ipython3",
   "version": "3.6.5"
  }
 },
 "nbformat": 4,
 "nbformat_minor": 2
}
